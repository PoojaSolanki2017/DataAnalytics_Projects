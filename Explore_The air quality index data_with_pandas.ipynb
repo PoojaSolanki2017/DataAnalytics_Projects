{
 "cells": [
  {
   "cell_type": "markdown",
   "metadata": {
    "id": "W8orLNs0RRSa"
   },
   "source": [
    "<h1>Explore Dataframes with pandas</h1>"
   ]
  },
  {
   "cell_type": "markdown",
   "metadata": {
    "id": "ObyrlQucRbyr"
   },
   "source": [
    "## Introduction\n",
    "\n",
    "Your work as a data professional for the U.S. Environmental Protection Agency (EPA) requires you to analyze air quality index data collected from the United States and Mexico.\n",
    "\n",
    "The air quality index (AQI) is a number that runs from 0 to 500. The higher the AQI value, the greater the level of air pollution and the greater the health concern. For example, an AQI value of 50 or below represents good air quality, while an AQI value over 300 represents hazardous air quality. Refer to this guide from [AirNow.gov](https://www.airnow.gov/aqi/aqi-basics/) for more information.\n",
    "\n",
    "In order to complete the project, load a dataframe, examine its metadata and summary statistics, and explore it using iloc indexing and sorting. Furthermore, practice also Boolean masking, grouping, and concatenating data.\n",
    "\n",
    "<img src=\"https://raw.githubusercontent.com/PoojaSolanki2017/Portfolio_Project/refs/heads/main/Python_Project/AQI-Basics-for-Ozone-and-Particle-Pollution-Daily-AQI-Colour-Levels-of-Concern-Values-of.png\"\n",
    "      />"
   ]
  },
  {
   "cell_type": "markdown",
   "metadata": {
    "id": "zSl8JYIUv8qp"
   },
   "source": [
    "## Task 1: Read data from csv file into a pandas dataframe\n",
    "\n",
    "You are given two files of data. Begin with the first file, which contains the three states with the most observations (rows): California, Texas, and Pennsylvania."
   ]
  },
  {
   "cell_type": "code",
   "execution_count": 2,
   "metadata": {
    "id": "9v0Ws5Lma0Qp"
   },
   "outputs": [],
   "source": [
    "#import pandas\n",
    "import pandas as pd"
   ]
  },
  {
   "cell_type": "markdown",
   "metadata": {
    "id": "HSlvZpkJ0B1P"
   },
   "source": [
    "### 1b: Read in the first csv file"
   ]
  },
  {
   "cell_type": "code",
   "execution_count": 3,
   "metadata": {
    "colab": {
     "base_uri": "https://localhost:8080/",
     "height": 206
    },
    "executionInfo": {
     "elapsed": 20,
     "status": "ok",
     "timestamp": 1679932927383,
     "user": {
      "displayName": "Matteo Riotto",
      "userId": "15211004813978485634"
     },
     "user_tz": 420
    },
    "id": "_prn5YzrSnkO",
    "outputId": "ac391295-ea57-4902-f828-cefcedc74cd6"
   },
   "outputs": [
    {
     "name": "stdout",
     "output_type": "stream",
     "text": [
      "   state_code  state_name  county_code  county_name   aqi  state_code_int  \\\n",
      "0           4     Arizona           13     Maricopa  18.0               4   \n",
      "1           4     Arizona           13     Maricopa   9.0               4   \n",
      "2           4     Arizona           19         Pima  20.0               4   \n",
      "3           6  California            1      Alameda  11.0               6   \n",
      "4           6  California            7        Butte   6.0               6   \n",
      "5           6  California           19       Fresno  11.0               6   \n",
      "6           6  California           29         Kern   7.0               6   \n",
      "7           6  California           29         Kern   3.0               6   \n",
      "8           6  California           29         Kern   7.0               6   \n",
      "9           6  California           37  Los Angeles  13.0               6   \n",
      "\n",
      "   county_code_int  \n",
      "0               13  \n",
      "1               13  \n",
      "2               19  \n",
      "3                1  \n",
      "4                7  \n",
      "5               19  \n",
      "6               29  \n",
      "7               29  \n",
      "8               29  \n",
      "9               37  \n"
     ]
    }
   ],
   "source": [
    "#link to input dataset\n",
    "input_dataset = \"https://raw.githubusercontent.com/PoojaSolanki2017/Portfolio_Project/refs/heads/main/Python_Project/c2_epa_air_quality.csv\"\n",
    "\n",
    "#read data from csv as a pandas object\n",
    "df_states = pd.read_csv(input_dataset)\n",
    "\n",
    "#print data frame data\n",
    "print(df_states.head(10))\n"
   ]
  },
  {
   "cell_type": "markdown",
   "metadata": {
    "id": "1Ed4yOjY2AeA"
   },
   "source": [
    "<details>\n",
    "  <summary><h4><strong>Hint</strong></h4></summary>\n",
    "\n",
    "Because the file is already in your working directory, you can simply pass the file name to the `pd.read_csv()` function as a string.\n",
    "\n",
    "</details>"
   ]
  },
  {
   "cell_type": "markdown",
   "metadata": {
    "id": "mWlnbqgB2gVj"
   },
   "source": [
    "## Task 2: Summary information"
   ]
  },
  {
   "cell_type": "markdown",
   "metadata": {
    "id": "lAPAVCeg3Cqi"
   },
   "source": [
    "### 2a: Metadata\n",
    "Examine the number of rows and columns, the column names, the data type contained in each column, the number of non-null values in each column, and the amount of memory the dataframe uses."
   ]
  },
  {
   "cell_type": "code",
   "execution_count": 5,
   "metadata": {
    "colab": {
     "base_uri": "https://localhost:8080/"
    },
    "executionInfo": {
     "elapsed": 20,
     "status": "ok",
     "timestamp": 1679932927384,
     "user": {
      "displayName": "Matteo Riotto",
      "userId": "15211004813978485634"
     },
     "user_tz": 420
    },
    "id": "KAlBReg6Swzs",
    "outputId": "eb2ad40a-74d6-4176-a156-8066f05f900a"
   },
   "outputs": [
    {
     "name": "stdout",
     "output_type": "stream",
     "text": [
      "**********************************\n",
      "Data frame dimentions\n",
      "**********************************\n",
      "(1725, 7) \n",
      "\n",
      "**********************************\n",
      "Data frame column names\n",
      "**********************************\n",
      "Index(['state_code', 'state_name', 'county_code', 'county_name', 'aqi',\n",
      "       'state_code_int', 'county_code_int'],\n",
      "      dtype='object') \n",
      "\n",
      "**********************************\n",
      "Data frame row names\n",
      "**********************************\n",
      "RangeIndex(start=0, stop=1725, step=1) \n",
      "\n",
      "**********************************\n",
      "Data frame column data types\n",
      "**********************************\n",
      "state_code           int64\n",
      "state_name          object\n",
      "county_code          int64\n",
      "county_name         object\n",
      "aqi                float64\n",
      "state_code_int       int64\n",
      "county_code_int      int64\n",
      "dtype: object \n",
      "\n",
      "**********************************\n",
      "Data frame information\n",
      "**********************************\n",
      "<class 'pandas.core.frame.DataFrame'>\n",
      "RangeIndex: 1725 entries, 0 to 1724\n",
      "Data columns (total 7 columns):\n",
      " #   Column           Non-Null Count  Dtype  \n",
      "---  ------           --------------  -----  \n",
      " 0   state_code       1725 non-null   int64  \n",
      " 1   state_name       1725 non-null   object \n",
      " 2   county_code      1725 non-null   int64  \n",
      " 3   county_name      1725 non-null   object \n",
      " 4   aqi              1725 non-null   float64\n",
      " 5   state_code_int   1725 non-null   int64  \n",
      " 6   county_code_int  1725 non-null   int64  \n",
      "dtypes: float64(1), int64(4), object(2)\n",
      "memory usage: 94.5+ KB\n",
      "None \n",
      "\n"
     ]
    }
   ],
   "source": [
    "#### print data frame information\n",
    "print(\"**********************************\")\n",
    "print(\"Data frame dimentions\")\n",
    "print(\"**********************************\")\n",
    "print(df_states.shape,\"\\n\")\n",
    "\n",
    "print(\"**********************************\")\n",
    "print(\"Data frame column names\")\n",
    "print(\"**********************************\")\n",
    "print(df_states.columns,\"\\n\")\n",
    "\n",
    "print(\"**********************************\")\n",
    "print(\"Data frame row names\")\n",
    "print(\"**********************************\")\n",
    "print(df_states.index,\"\\n\")\n",
    "\n",
    "print(\"**********************************\")\n",
    "print(\"Data frame column data types\")\n",
    "print(\"**********************************\")\n",
    "print(df_states.dtypes,\"\\n\")\n",
    "\n",
    "print(\"**********************************\")\n",
    "print(\"Data frame information\")\n",
    "print(\"**********************************\")\n",
    "print(df_states.info(),\"\\n\")\n"
   ]
  },
  {
   "cell_type": "markdown",
   "metadata": {
    "id": "eaYhqTMH4cCl"
   },
   "source": [
    "<details>\n",
    "  <summary><h4><strong>Hint</strong></h4></summary>\n",
    "\n",
    "The `info()` method returns a dataframe's metadata.\n",
    "\n",
    "</details>"
   ]
  },
  {
   "cell_type": "markdown",
   "metadata": {
    "id": "_MgYSGkX42m7"
   },
   "source": [
    "### 2b: Summary statistics\n",
    "Examine the summary statistics of the dataframe's numeric columns. The output should be a table that includes row count, mean, standard deviation, min, max, and quartile values."
   ]
  },
  {
   "cell_type": "code",
   "execution_count": 6,
   "metadata": {
    "colab": {
     "base_uri": "https://localhost:8080/",
     "height": 300
    },
    "executionInfo": {
     "elapsed": 17,
     "status": "ok",
     "timestamp": 1679932927385,
     "user": {
      "displayName": "Matteo Riotto",
      "userId": "15211004813978485634"
     },
     "user_tz": 420
    },
    "id": "FbPFaH6ZfPdz",
    "outputId": "b5a0e137-c207-4198-d32a-b1823d21a054"
   },
   "outputs": [
    {
     "name": "stdout",
     "output_type": "stream",
     "text": [
      "**********************************\n",
      "Data frame summary statistics\n",
      "**********************************\n",
      "        state_code  county_code          aqi  state_code_int  county_code_int\n",
      "count  1725.000000  1725.000000  1725.000000     1725.000000      1725.000000\n",
      "mean     26.595942    83.939130    11.034783       26.595942        83.939130\n",
      "std      18.702416   118.027324    10.385993       18.702416       118.027324\n",
      "min       1.000000     1.000000     0.000000        1.000000         1.000000\n",
      "25%       6.000000    20.000000     5.000000        6.000000        20.000000\n",
      "50%      26.000000    55.000000     8.000000       26.000000        55.000000\n",
      "75%      42.000000   101.000000    15.000000       42.000000       101.000000\n",
      "max      80.000000   810.000000    93.000000       80.000000       810.000000 \n",
      "\n"
     ]
    }
   ],
   "source": [
    "print(\"**********************************\")\n",
    "print(\"Data frame summary statistics\")\n",
    "print(\"**********************************\")\n",
    "print(df_states.describe(),\"\\n\")"
   ]
  },
  {
   "cell_type": "markdown",
   "metadata": {
    "id": "oLMPpAzN5wVH"
   },
   "source": [
    "## Task 3: Explore and transform data"
   ]
  },
  {
   "cell_type": "markdown",
   "metadata": {
    "id": "18cf9eYI6eY3"
   },
   "source": [
    "### 3a: Rows per state\n",
    "\n",
    "Calculate total states from `state_name` column using `value_counts()` method to check how many rows there are for each state in the dataframe."
   ]
  },
  {
   "cell_type": "code",
   "execution_count": 22,
   "metadata": {
    "colab": {
     "base_uri": "https://localhost:8080/"
    },
    "executionInfo": {
     "elapsed": 40,
     "status": "ok",
     "timestamp": 1679932927637,
     "user": {
      "displayName": "Matteo Riotto",
      "userId": "15211004813978485634"
     },
     "user_tz": 420
    },
    "id": "pkNTi5ZpfmLT",
    "outputId": "ed6454d5-a369-496d-e333-0af8872e48dc"
   },
   "outputs": [
    {
     "name": "stdout",
     "output_type": "stream",
     "text": [
      "**********************************\n",
      "Total states in data frame\n",
      "**********************************\n",
      "42 \n",
      "\n",
      "**********************************\n",
      "Value count for each states\n",
      "**********************************\n",
      "California              342\n",
      "Texas                   104\n",
      "Pennsylvania            100\n",
      "Florida                  81\n",
      "Arizona                  72\n",
      "Colorado                 66\n",
      "Nevada                   65\n",
      "Ohio                     63\n",
      "Virginia                 51\n",
      "New York                 51\n",
      "New Jersey               45\n",
      "Illinois                 37\n",
      "Washington               36\n",
      "North Carolina           34\n",
      "Missouri                 33\n",
      "Massachusetts            33\n",
      "Michigan                 31\n",
      "New Mexico               30\n",
      "Minnesota                29\n",
      "Country Of Mexico        28\n",
      "Tennessee                27\n",
      "Indiana                  27\n",
      "Utah                     26\n",
      "Kentucky                 24\n",
      "Oklahoma                 22\n",
      "Alabama                  22\n",
      "Connecticut              21\n",
      "Wisconsin                20\n",
      "Montana                  20\n",
      "Puerto Rico              19\n",
      "Oregon                   17\n",
      "Hawaii                   16\n",
      "West Virginia            15\n",
      "Kansas                   15\n",
      "Maryland                 15\n",
      "Georgia                  14\n",
      "Alaska                   14\n",
      "Nebraska                 13\n",
      "Iowa                     12\n",
      "District Of Columbia     12\n",
      "Louisiana                12\n",
      "Vermont                  11\n",
      "Name: state_name, dtype: int64\n"
     ]
    }
   ],
   "source": [
    "#calculate count for each states\n",
    "number_of_states = df_states['state_name'].nunique()\n",
    "state_counts = df_states['state_name'].value_counts()\n",
    "\n",
    "print(\"**********************************\")\n",
    "print(\"Total states in data frame\")\n",
    "print(\"**********************************\")\n",
    "print(number_of_states,\"\\n\")\n",
    "\n",
    "print(\"**********************************\")\n",
    "print(\"Value count for each states\")\n",
    "print(\"**********************************\")\n",
    "print(state_counts)\n"
   ]
  },
  {
   "cell_type": "markdown",
   "metadata": {
    "id": "pdtgkvCU8N96"
   },
   "source": [
    "### 3b: Sort data frame by AQI values\n",
    "\n",
    "Create a new dataframe called by using the `sort_values()` method and the new dataframe should contain the data sorted by AQI, beginning with the rows with the highest AQI values.\n"
   ]
  },
  {
   "cell_type": "code",
   "execution_count": 40,
   "metadata": {
    "colab": {
     "base_uri": "https://localhost:8080/",
     "height": 363
    },
    "executionInfo": {
     "elapsed": 39,
     "status": "ok",
     "timestamp": 1679932927638,
     "user": {
      "displayName": "Matteo Riotto",
      "userId": "15211004813978485634"
     },
     "user_tz": 420
    },
    "id": "IRryfyYOhOfm",
    "outputId": "da23ed8b-5181-43f4-8f58-8ce68aea9149"
   },
   "outputs": [
    {
     "name": "stdout",
     "output_type": "stream",
     "text": [
      "****************************************\n",
      "Top 10 Sstates with highest AQI values\n",
      "****************************************\n",
      "      state_code         state_name  county_code            county_name   aqi  \\\n",
      "253            6         California           37            Los Angeles  93.0   \n",
      "1324          80  Country Of Mexico            2  BAJA CALIFORNIA NORTE  79.0   \n",
      "116           53         Washington           61              Snohomish  76.0   \n",
      "107           47          Tennessee          157                 Shelby  74.0   \n",
      "123            4            Arizona           13               Maricopa  66.0   \n",
      "607            4            Arizona           13               Maricopa  66.0   \n",
      "787            9        Connecticut            3               Hartford  61.0   \n",
      "980           80  Country Of Mexico            2  BAJA CALIFORNIA NORTE  60.0   \n",
      "125            4            Arizona           13               Maricopa  60.0   \n",
      "472            6         California           37            Los Angeles  59.0   \n",
      "\n",
      "      state_code_int  county_code_int  \n",
      "253                6               37  \n",
      "1324              80                2  \n",
      "116               53               61  \n",
      "107               47              157  \n",
      "123                4               13  \n",
      "607                4               13  \n",
      "787                9                3  \n",
      "980               80                2  \n",
      "125                4               13  \n",
      "472                6               37  \n"
     ]
    }
   ],
   "source": [
    "#sort dat frame by AQI column\n",
    "sorted_AQI_df = df_states.sort_values(by = 'aqi', ascending = False)\n",
    "\n",
    "print(\"****************************************\")\n",
    "print(\"Top 10 Sstates with highest AQI values\")\n",
    "print(\"****************************************\")\n",
    "\n",
    "#print top10 AQI rows\n",
    "print(sorted_AQI_df.head(10))\n"
   ]
  },
  {
   "cell_type": "markdown",
   "metadata": {
    "id": "MJW_H8ByCnp6"
   },
   "source": [
    "### 3c: Use `iloc` to select rows\n",
    "\n",
    "Use `iloc` to select the two rows at indices 10 and 11 of the `top3_sorted` dataframe."
   ]
  },
  {
   "cell_type": "code",
   "execution_count": 41,
   "metadata": {
    "colab": {
     "base_uri": "https://localhost:8080/",
     "height": 112
    },
    "executionInfo": {
     "elapsed": 39,
     "status": "ok",
     "timestamp": 1679932927639,
     "user": {
      "displayName": "Matteo Riotto",
      "userId": "15211004813978485634"
     },
     "user_tz": 420
    },
    "id": "lJf96gRyif8y",
    "outputId": "70bfc39d-0f15-4cd7-bba3-f499cf92a4c3"
   },
   "outputs": [
    {
     "name": "stdout",
     "output_type": "stream",
     "text": [
      "     state_code  state_name  county_code county_name   aqi  state_code_int  \\\n",
      "173          53  Washington           77      Yakima  58.0              53   \n",
      "174          53  Washington           77      Yakima  57.0              53   \n",
      "\n",
      "     county_code_int  \n",
      "173               77  \n",
      "174               77  \n"
     ]
    }
   ],
   "source": [
    "### print row indices 10 and 11\n",
    "print(sorted_AQI_df.iloc[[10,11],:])"
   ]
  },
  {
   "cell_type": "markdown",
   "metadata": {
    "id": "vTCia-aGFbbs"
   },
   "source": [
    "## Task 4: Examine California state's data\n",
    "\n",
    "The previous results shows that California represents the highest AQI, so let's examine the data for just the state of California."
   ]
  },
  {
   "cell_type": "markdown",
   "metadata": {
    "id": "veJeGG1HGQLe"
   },
   "source": [
    "### 4a: Basic Boolean masking\n",
    "\n",
    "1. Create a Boolean mask that selects only the observations of the dataframe that are from California.\n",
    "\n",
    "2. Apply the Boolean mask to the the dataframe and assign the result to a new variable.\n",
    "\n",
    "3. Print the first five rows of the new california data frame."
   ]
  },
  {
   "cell_type": "code",
   "execution_count": 53,
   "metadata": {
    "colab": {
     "base_uri": "https://localhost:8080/",
     "height": 206
    },
    "executionInfo": {
     "elapsed": 39,
     "status": "ok",
     "timestamp": 1679932927640,
     "user": {
      "displayName": "Matteo Riotto",
      "userId": "15211004813978485634"
     },
     "user_tz": 420
    },
    "id": "9Ysa4Pj-TEyk",
    "outputId": "a81d5861-4a9f-48c6-f66e-871731cd0ce9"
   },
   "outputs": [
    {
     "name": "stdout",
     "output_type": "stream",
     "text": [
      "****************************************\n",
      "California AQI data\n",
      "****************************************\n",
      "      state_code  state_name  county_code    county_name   aqi  \\\n",
      "253            6  California           37    Los Angeles  93.0   \n",
      "472            6  California           37    Los Angeles  59.0   \n",
      "615            6  California           59         Orange  47.0   \n",
      "135            6  California           83  Santa Barbara  47.0   \n",
      "403            6  California           59         Orange  47.0   \n",
      "...          ...         ...          ...            ...   ...   \n",
      "1353           6  California           59         Orange   0.0   \n",
      "74             6  California           99     Stanislaus   0.0   \n",
      "1276           6  California           25       Imperial   0.0   \n",
      "136            6  California           83  Santa Barbara   0.0   \n",
      "189            6  California           45      Mendocino   0.0   \n",
      "\n",
      "      state_code_int  county_code_int  \n",
      "253                6               37  \n",
      "472                6               37  \n",
      "615                6               59  \n",
      "135                6               83  \n",
      "403                6               59  \n",
      "...              ...              ...  \n",
      "1353               6               59  \n",
      "74                 6               99  \n",
      "1276               6               25  \n",
      "136                6               83  \n",
      "189                6               45  \n",
      "\n",
      "[342 rows x 7 columns]\n"
     ]
    }
   ],
   "source": [
    "# create boolean masking where state_name is California\n",
    "ca_df_boolean_mask = (sorted_AQI_df['state_name'] == 'California')\n",
    "\n",
    "#apply boolean mask to sorted AQI df\n",
    "california_df = sorted_AQI_df[ca_df_boolean_mask]\n",
    "\n",
    "print(\"****************************************\")\n",
    "print(\"California AQI data\")\n",
    "print(\"****************************************\")\n",
    "\n",
    "#print only California data from sorted AQI df\n",
    "print(california_df)\n",
    "\n",
    "\n"
   ]
  },
  {
   "cell_type": "markdown",
   "metadata": {
    "id": "QcP9jneZJoFt"
   },
   "source": [
    "### 4b: Validate CA data\n",
    "\n",
    "Inspect the shape of the new `california_df` dataframe. Does its row count match the number of California rows determined in Task 3a?"
   ]
  },
  {
   "cell_type": "code",
   "execution_count": 54,
   "metadata": {
    "colab": {
     "base_uri": "https://localhost:8080/"
    },
    "executionInfo": {
     "elapsed": 39,
     "status": "ok",
     "timestamp": 1679932927641,
     "user": {
      "displayName": "Matteo Riotto",
      "userId": "15211004813978485634"
     },
     "user_tz": 420
    },
    "id": "ZdpJLggBgV5B",
    "outputId": "1ec24aea-3e02-45a5-f40a-54fff1670d77"
   },
   "outputs": [
    {
     "name": "stdout",
     "output_type": "stream",
     "text": [
      "(342, 7)\n"
     ]
    }
   ],
   "source": [
    "print(california_df.shape)"
   ]
  },
  {
   "cell_type": "markdown",
   "metadata": {
    "id": "yOBWRRiOL3AI"
   },
   "source": [
    "### 4c: Rows per CA county\n",
    "\n",
    "Examine a list of the number of times each county is represented in the California data."
   ]
  },
  {
   "cell_type": "code",
   "execution_count": 57,
   "metadata": {
    "colab": {
     "base_uri": "https://localhost:8080/"
    },
    "executionInfo": {
     "elapsed": 36,
     "status": "ok",
     "timestamp": 1679932927642,
     "user": {
      "displayName": "Matteo Riotto",
      "userId": "15211004813978485634"
     },
     "user_tz": 420
    },
    "id": "bJCi2FyhVCMI",
    "outputId": "c8167244-40b5-47b4-e1f7-613b8fa9dad6"
   },
   "outputs": [
    {
     "name": "stdout",
     "output_type": "stream",
     "text": [
      "**********************************\n",
      "County counts for California\n",
      "**********************************\n",
      "Los Angeles        55\n",
      "Santa Barbara      26\n",
      "San Bernardino     21\n",
      "San Diego          19\n",
      "Orange             19\n",
      "Sacramento         17\n",
      "Alameda            17\n",
      "Fresno             16\n",
      "Riverside          14\n",
      "Contra Costa       13\n",
      "Imperial           13\n",
      "San Francisco       8\n",
      "Monterey            8\n",
      "Humboldt            8\n",
      "El Dorado           7\n",
      "Santa Clara         7\n",
      "Placer              6\n",
      "Butte               6\n",
      "Mendocino           6\n",
      "Kern                6\n",
      "Tulare              5\n",
      "Ventura             5\n",
      "San Joaquin         5\n",
      "Solano              5\n",
      "Sutter              4\n",
      "San Mateo           4\n",
      "Marin               3\n",
      "Stanislaus          3\n",
      "Sonoma              3\n",
      "Napa                2\n",
      "Santa Cruz          2\n",
      "San Luis Obispo     2\n",
      "Calaveras           2\n",
      "Shasta              1\n",
      "Inyo                1\n",
      "Yolo                1\n",
      "Tuolumne            1\n",
      "Mono                1\n",
      "Name: county_name, dtype: int64\n"
     ]
    }
   ],
   "source": [
    "#3count number of county for califormania\n",
    "county_counts_CA = california_df['county_name'].value_counts()\n",
    "\n",
    "\n",
    "print(\"**********************************\")\n",
    "print(\"County counts for California\")\n",
    "print(\"**********************************\")\n",
    "print(county_counts_CA)\n"
   ]
  },
  {
   "cell_type": "markdown",
   "metadata": {
    "id": "25cj2ITKM2Z2"
   },
   "source": [
    "### 4d: Calculate mean AQI for Los Angeles county\n",
    "\n",
    "It seems that Los Angeles county has more than twice the number of rows of the next-most-represented county in California, so let's learn more about it.\n",
    "\n",
    "*  Calculate the mean AQI for LA county."
   ]
  },
  {
   "cell_type": "code",
   "execution_count": 76,
   "metadata": {
    "colab": {
     "base_uri": "https://localhost:8080/"
    },
    "executionInfo": {
     "elapsed": 33,
     "status": "ok",
     "timestamp": 1679932927642,
     "user": {
      "displayName": "Matteo Riotto",
      "userId": "15211004813978485634"
     },
     "user_tz": 420
    },
    "id": "H4hTyZf5rC9E",
    "outputId": "1c329d79-0a95-40e1-d203-de37f514cb6c"
   },
   "outputs": [
    {
     "name": "stdout",
     "output_type": "stream",
     "text": [
      "**********************************\n",
      "Mean AQI for Los Angeles\n",
      "**********************************\n",
      "             mean_aqi\n",
      "county_name          \n",
      "Los Angeles      13.4\n"
     ]
    }
   ],
   "source": [
    "#create a boolean mask for Los Angeles\n",
    "la_boolean_mask = california_df['county_name'] == 'Los Angeles'\n",
    "\n",
    "la_df = california_df[la_boolean_mask]\n",
    "\n",
    "groupby_county = california_df.query(\" county_name == 'Los Angeles' \").groupby(['county_name']).agg(mean_aqi = ('aqi','mean'))\n",
    "\n",
    "print(\"**********************************\")\n",
    "print(\"Mean AQI for Los Angeles\")\n",
    "print(\"**********************************\")\n",
    "\n",
    "print(groupby_county)\n"
   ]
  },
  {
   "cell_type": "markdown",
   "metadata": {
    "id": "YyMgRk1KPWYL"
   },
   "source": [
    "## Task 5: Use Groupby method\n",
    "\n",
    "Group the original dataframe by state and calculate the mean AQI for each state."
   ]
  },
  {
   "cell_type": "code",
   "execution_count": 86,
   "metadata": {
    "colab": {
     "base_uri": "https://localhost:8080/",
     "height": 175
    },
    "executionInfo": {
     "elapsed": 31,
     "status": "ok",
     "timestamp": 1679932927643,
     "user": {
      "displayName": "Matteo Riotto",
      "userId": "15211004813978485634"
     },
     "user_tz": 420
    },
    "id": "w9MlkTjDk2jj",
    "outputId": "b88f2caa-2f40-406d-d9e4-2780d8f2f8f4"
   },
   "outputs": [
    {
     "name": "stdout",
     "output_type": "stream",
     "text": [
      "**********************************\n",
      "Mean AQI for each states\n",
      "**********************************\n",
      "                            aqi\n",
      "state_name                     \n",
      "Alabama                7.500000\n",
      "Alaska                15.714286\n",
      "Arizona               16.597222\n",
      "California             9.412281\n",
      "Colorado              12.136364\n",
      "Connecticut           12.619048\n",
      "Country Of Mexico     19.071429\n",
      "District Of Columbia  15.916667\n",
      "Florida               11.654321\n",
      "Georgia                7.071429\n",
      "Hawaii                 7.687500\n",
      "Illinois              11.864865\n",
      "Indiana               11.148148\n",
      "Iowa                   8.000000\n",
      "Kansas                 6.400000\n",
      "Kentucky               8.625000\n",
      "Louisiana             14.833333\n",
      "Maryland               9.400000\n",
      "Massachusetts          9.454545\n",
      "Michigan               7.322581\n",
      "Minnesota              8.896552\n",
      "Missouri               7.060606\n",
      "Montana               10.600000\n",
      "Nebraska              15.153846\n",
      "Nevada                10.323077\n",
      "New Jersey            14.222222\n",
      "New Mexico            12.833333\n",
      "New York               9.235294\n",
      "North Carolina        13.470588\n",
      "Ohio                   9.682540\n",
      "Oklahoma               9.681818\n",
      "Oregon                22.411765\n",
      "Pennsylvania           6.690000\n",
      "Puerto Rico           15.947368\n",
      "Tennessee             15.000000\n",
      "Texas                  9.375000\n",
      "Utah                  18.192308\n",
      "Vermont               11.818182\n",
      "Virginia               8.588235\n",
      "Washington            24.972222\n",
      "West Virginia          6.600000\n",
      "Wisconsin              8.100000\n"
     ]
    }
   ],
   "source": [
    "##group original df by state and calculate mean values for aqi\n",
    "groupby_states = df_states.groupby(['state_name'])[['aqi']].mean()\n",
    "\n",
    "print(\"**********************************\")\n",
    "print(\"Mean AQI for each states\")\n",
    "print(\"**********************************\")\n",
    "print(groupby_states)"
   ]
  },
  {
   "cell_type": "markdown",
   "metadata": {
    "id": "e0Ls3OueR8LN"
   },
   "source": [
    "## Task 6: Add more data by concatenating two data frames\n",
    "\n",
    "Add more state data from your the second file."
   ]
  },
  {
   "cell_type": "markdown",
   "metadata": {
    "id": "Um7-XdnMSkHG"
   },
   "source": [
    "### 6a: Read in the second file\n",
    "\n",
    "1. Read in the data for the remaining territories. \n",
    "\n",
    "2. TO examine the data, print the first five rows."
   ]
  },
  {
   "cell_type": "code",
   "execution_count": 7,
   "metadata": {
    "colab": {
     "base_uri": "https://localhost:8080/",
     "height": 206
    },
    "executionInfo": {
     "elapsed": 30,
     "status": "ok",
     "timestamp": 1679932927644,
     "user": {
      "displayName": "Matteo Riotto",
      "userId": "15211004813978485634"
     },
     "user_tz": 420
    },
    "id": "Qze2SW5Nl6rg",
    "outputId": "13b613fa-0fef-40db-8425-03cc743b7e6b"
   },
   "outputs": [
    {
     "name": "stdout",
     "output_type": "stream",
     "text": [
      "   state_code state_name  county_code county_name   aqi\n",
      "0           4    Arizona           13    Maricopa  18.0\n",
      "1           4    Arizona           13    Maricopa   9.0\n",
      "2           4    Arizona           19        Pima  20.0\n",
      "3           8   Colorado           41     El Paso   9.0\n",
      "4          12    Florida           31       Duval  15.0\n"
     ]
    }
   ],
   "source": [
    "# read the second csv file\n",
    "input_dataset2 = (\"https://raw.githubusercontent.com/PoojaSolanki2017/Portfolio_Project/refs/heads/main/Python_Project/epa_others.csv\")\n",
    "\n",
    "#concat two df with pandas\n",
    "df_other_states = pd.read_csv(input_dataset2)\n",
    "\n",
    "print(df_other_states.head(5))"
   ]
  },
  {
   "cell_type": "markdown",
   "metadata": {
    "id": "UWSSzw-4TNVv"
   },
   "source": [
    "### 6b: Concatenate the data\n",
    "\n",
    "The data from `df_other_states` has the same format as the data from `df_states`. It has the same columns in the same order.\n",
    "\n",
    "Add the data from `df_other_states` as new rows beneath the data from `df_states`. Assign the result to a new dataframe called `combined_df`.\n",
    "\n",
    "Verify that the length of `combined_df` is equal to the sum of the lengths of `df_states` and `df_other_states`."
   ]
  },
  {
   "cell_type": "code",
   "execution_count": 10,
   "metadata": {
    "colab": {
     "base_uri": "https://localhost:8080/"
    },
    "executionInfo": {
     "elapsed": 29,
     "status": "ok",
     "timestamp": 1679932927644,
     "user": {
      "displayName": "Matteo Riotto",
      "userId": "15211004813978485634"
     },
     "user_tz": 420
    },
    "id": "Jawta5WosDoW",
    "outputId": "f71829ad-acc1-46c0-9231-558fc1fc7e85"
   },
   "outputs": [
    {
     "name": "stdout",
     "output_type": "stream",
     "text": [
      "**********************************\n",
      "Few rows of combined data frame\n",
      "**********************************\n",
      "      state_code  state_name  county_code     county_name   aqi  \\\n",
      "0              4     Arizona           13        Maricopa  18.0   \n",
      "1              4     Arizona           13        Maricopa   9.0   \n",
      "2              4     Arizona           19            Pima  20.0   \n",
      "3              6  California            1         Alameda  11.0   \n",
      "4              6  California            7           Butte   6.0   \n",
      "...          ...         ...          ...             ...   ...   \n",
      "1174          31    Nebraska           55         Douglas   2.0   \n",
      "1175           1     Alabama           73       Jefferson   3.0   \n",
      "1176          36    New York            5           Bronx   7.0   \n",
      "1177          29    Missouri          510  St. Louis City   5.0   \n",
      "1178          36    New York           29            Erie   0.0   \n",
      "\n",
      "      state_code_int  county_code_int  \n",
      "0                4.0             13.0  \n",
      "1                4.0             13.0  \n",
      "2                4.0             19.0  \n",
      "3                6.0              1.0  \n",
      "4                6.0              7.0  \n",
      "...              ...              ...  \n",
      "1174             NaN              NaN  \n",
      "1175             NaN              NaN  \n",
      "1176             NaN              NaN  \n",
      "1177             NaN              NaN  \n",
      "1178             NaN              NaN  \n",
      "\n",
      "[2904 rows x 7 columns] \n",
      "\n",
      "**********************************\n",
      "Length of states data frame\n",
      "**********************************\n",
      "1725 \n",
      "\n",
      "**********************************\n",
      "Length of other states data frame\n",
      "**********************************\n",
      "1179 \n",
      "\n",
      "**********************************\n",
      "Length of the new combined data frame\n",
      "**********************************\n",
      "2904 \n",
      "\n",
      "Total length of df_states + df_other_states combined df: 2904\n",
      "Total length of combined df: 2904\n"
     ]
    }
   ],
   "source": [
    "#merge state and other_states df as combined_df\n",
    "\n",
    "combined_df = pd.concat([df_states,df_other_states])\n",
    "\n",
    "print(\"**********************************\")\n",
    "print(\"Few rows of combined data frame\")\n",
    "print(\"**********************************\")\n",
    "\n",
    "print(combined_df,\"\\n\")\n",
    "# calculate length of states and other states df and of combined_df\n",
    "\n",
    "print(\"**********************************\")\n",
    "print(\"Length of states data frame\")\n",
    "print(\"**********************************\")\n",
    "\n",
    "print(len(df_states),\"\\n\")\n",
    "\n",
    "print(\"**********************************\")\n",
    "print(\"Length of other states data frame\")\n",
    "print(\"**********************************\")\n",
    "\n",
    "print(len(df_other_states),\"\\n\")\n",
    "\n",
    "print(\"**********************************\")\n",
    "print(\"Length of the new combined data frame\")\n",
    "print(\"**********************************\")\n",
    "\n",
    "print(len(combined_df),\"\\n\")\n",
    "print(\"Total length of df_states + df_other_states combined df:\",(len(df_states) + len(df_other_states)))\n",
    "print(\"Total length of combined df:\",len(combined_df))\n",
    "# 2. ### YOUR CODE HERE ###\n"
   ]
  },
  {
   "cell_type": "markdown",
   "metadata": {
    "id": "OHlADErxYoH4"
   },
   "source": [
    "## Task 7: Complex Boolean masking\n",
    "\n",
    "According to the EPA, AQI values of 51-100 are considered of \"Moderate\" concern. \n",
    "\n",
    "*  Use Boolean masking to return the rows that represent data from the state of Washington with AQI values of 51+."
   ]
  },
  {
   "cell_type": "code",
   "execution_count": 117,
   "metadata": {
    "colab": {
     "base_uri": "https://localhost:8080/",
     "height": 175
    },
    "executionInfo": {
     "elapsed": 27,
     "status": "ok",
     "timestamp": 1679932927645,
     "user": {
      "displayName": "Matteo Riotto",
      "userId": "15211004813978485634"
     },
     "user_tz": 420
    },
    "id": "L_O-gFlBY6h7",
    "outputId": "e1830dcb-e1cf-4cb6-e8ec-45df5c63605a"
   },
   "outputs": [
    {
     "name": "stdout",
     "output_type": "stream",
     "text": [
      "     state_code  state_name  county_code county_name   aqi  state_code_int  \\\n",
      "57           53  Washington           33        King  55.0            53.0   \n",
      "116          53  Washington           61   Snohomish  76.0            53.0   \n",
      "173          53  Washington           77      Yakima  58.0            53.0   \n",
      "174          53  Washington           77      Yakima  57.0            53.0   \n",
      "40           53  Washington           33        King  55.0             NaN   \n",
      "82           53  Washington           61   Snohomish  76.0             NaN   \n",
      "121          53  Washington           77      Yakima  58.0             NaN   \n",
      "122          53  Washington           77      Yakima  57.0             NaN   \n",
      "\n",
      "     county_code_int  \n",
      "57              33.0  \n",
      "116             61.0  \n",
      "173             77.0  \n",
      "174             77.0  \n",
      "40               NaN  \n",
      "82               NaN  \n",
      "121              NaN  \n",
      "122              NaN  \n"
     ]
    }
   ],
   "source": [
    "#create boolean mask where state name is 'Washington' and aqi is more than 50\n",
    "was_bool_mask = ((combined_df['state_name'] == 'Washington') & (combined_df['aqi'] > 51 ))\n",
    "\n",
    "#apply boolean mask to combined data frame\n",
    "washington_df = combined_df[was_bool_mask]\n",
    "\n",
    "print(washington_df)\n",
    "\n"
   ]
  },
  {
   "cell_type": "code",
   "execution_count": 36,
   "metadata": {},
   "outputs": [
    {
     "name": "stdout",
     "output_type": "stream",
     "text": [
      "**********************************\n",
      "States with highest AQI values\n",
      "**********************************\n",
      "                             county_name   aqi aqi_levels\n",
      "state_name                                               \n",
      "California                   Los Angeles  93.0   Moderate\n",
      "Country Of Mexico  BAJA CALIFORNIA NORTE  79.0   Moderate\n",
      "Washington                        Yakima  76.0   Moderate\n",
      "Tennessee                         Shelby  74.0   Moderate\n",
      "Arizona                         Maricopa  66.0   Moderate\n",
      "Connecticut                     Hartford  61.0   Moderate\n",
      "New Mexico                    Bernalillo  54.0   Moderate\n",
      "Nevada                            Washoe  52.0   Moderate \n",
      "\n",
      "**********************************\n",
      "States with lowest AQI values\n",
      "**********************************\n",
      "                                county_name  aqi aqi_levels\n",
      "state_name                                                 \n",
      "Alabama                           Jefferson  0.0       Good\n",
      "Virginia                    Alexandria City  0.0       Good\n",
      "Utah                                  Davis  0.0       Good\n",
      "Texas                                 Bexar  0.0       Good\n",
      "Pennsylvania                          Adams  0.0       Good\n",
      "New York                             Albany  0.0       Good\n",
      "Nevada                          Carson City  0.0       Good\n",
      "Kentucky                               Bell  0.0       Good\n",
      "Kansas                                 Linn  0.0       Good\n",
      "Minnesota                             Anoka  0.0       Good\n",
      "Country Of Mexico     BAJA CALIFORNIA NORTE  0.0       Good\n",
      "Arizona                            Maricopa  0.0       Good\n",
      "California                          Alameda  0.0       Good\n",
      "New Jersey                         Atlantic  1.0       Good\n",
      "Ohio                                Belmont  1.0       Good\n",
      "Montana                             Cascade  1.0       Good\n",
      "Colorado                              Adams  1.0       Good\n",
      "Michigan                          Kalamazoo  1.0       Good\n",
      "Connecticut                       Fairfield  1.0       Good\n",
      "Florida                             Broward  1.0       Good\n",
      "Iowa                                   Linn  1.0       Good\n",
      "Illinois                               Cook  1.0       Good\n",
      "New Mexico                       Bernalillo  1.0       Good\n",
      "Vermont                          Chittenden  2.0       Good\n",
      "Oregon                            Deschutes  2.0       Good\n",
      "Oklahoma                              Adair  2.0       Good\n",
      "Alaska                           Anchorage   2.0       Good\n",
      "Tennessee                            Blount  2.0       Good\n",
      "Hawaii                             Honolulu  2.0       Good\n",
      "Georgia                              DeKalb  2.0       Good\n",
      "Nebraska                            Douglas  2.0       Good\n",
      "Missouri                               Clay  2.0       Good\n",
      "West Virginia                        Brooke  2.0       Good\n",
      "Massachusetts                         Essex  2.0       Good\n",
      "Maryland                           Allegany  2.0       Good\n",
      "Louisiana                  East Baton Rouge  2.0       Good\n",
      "Indiana                               Allen  2.0       Good\n",
      "North Carolina                      Chatham  2.0       Good\n",
      "Wisconsin                             Dodge  2.0       Good\n",
      "Washington                            Clark  3.0       Good\n",
      "Puerto Rico                         Bayamon  5.0       Good\n",
      "District Of Columbia   District of Columbia  5.0       Good\n"
     ]
    }
   ],
   "source": [
    "#create a query to check all the states which has Moderate AQI level and highest AQI values\n",
    "high_aqi_df = combined_df.query(\"aqi > 51\").groupby(['state_name'])[['county_name','aqi']].max()\n",
    "\n",
    "#create a query to check all the states which has Good AQI level and lowest AQI value\n",
    "low_aqi_df = combined_df.query(\"aqi < 51\").groupby(['state_name'])[['county_name','aqi']].min()\n",
    "\n",
    "# define function to define aqi level from aqi values\n",
    "def aqi_levels(aqi_level) :\n",
    "    if aqi_level in range(0,50) :\n",
    "        return \"Good\"\n",
    "    elif aqi_level in range(51,101) :\n",
    "        return \"Moderate\"\n",
    "    elif aqi_level in range(101,151) :\n",
    "        return \"Unhealthy for Sensitive Groups\"\n",
    "    elif aqi_level in range(151,201) :\n",
    "        return \"Unhealthy\"\n",
    "    elif aqi_level in range(201,301) :\n",
    "        return \"Very Unhealthy\"\n",
    "    elif aqi_level >= 301 :\n",
    "        return \"Hazardous\"\n",
    "    \n",
    "\n",
    "#map values by applying function \n",
    "high_aqi_df['aqi_levels'] = high_aqi_df['aqi'].map(aqi_levels)\n",
    "low_aqi_df['aqi_levels'] = low_aqi_df['aqi'].map(aqi_levels)\n",
    "\n",
    "print(\"**********************************\")\n",
    "print(\"States with highest AQI values\")\n",
    "print(\"**********************************\")\n",
    "\n",
    "print(high_aqi_df.sort_values(by = 'aqi', ascending=False),\"\\n\")\n",
    "\n",
    "print(\"**********************************\")\n",
    "print(\"States with lowest AQI values\")\n",
    "print(\"**********************************\")\n",
    "print(low_aqi_df.sort_values(by = 'aqi'))"
   ]
  },
  {
   "cell_type": "markdown",
   "metadata": {
    "id": "x_naox-digdC"
   },
   "source": [
    "# Conclusion\n",
    "\n",
    "From the overall analysis, it can be predicted that the air quality level is good in many states such as Alabama, Virginia, Utah, Texas and Pennsylvania. However, it is \"Moderate\" in California, Country Of Mexico, Washington, Tennessee, Arizona, Connecticut, New Mexico and Nevada.\n",
    "\n",
    "It is good that no state has Unhealthy or Hazardous air quality. \n"
   ]
  },
  {
   "cell_type": "markdown",
   "metadata": {
    "id": "VQdWwbI3ExeB"
   },
   "source": [
    "[Double-click here to record your response.]"
   ]
  },
  {
   "cell_type": "markdown",
   "metadata": {},
   "source": []
  }
 ],
 "metadata": {
  "colab": {
   "provenance": [
    {
     "file_id": "1m7u07p4efLfDicqzIy9UzaGAnqxRayL0",
     "timestamp": 1679932999225
    }
   ],
   "toc_visible": true
  },
  "kernelspec": {
   "display_name": "Python 3",
   "language": "python",
   "name": "python3"
  },
  "language_info": {
   "codemirror_mode": {
    "name": "ipython",
    "version": 3
   },
   "file_extension": ".py",
   "mimetype": "text/x-python",
   "name": "python",
   "nbconvert_exporter": "python",
   "pygments_lexer": "ipython3",
   "version": "3.7.6"
  }
 },
 "nbformat": 4,
 "nbformat_minor": 1
}
